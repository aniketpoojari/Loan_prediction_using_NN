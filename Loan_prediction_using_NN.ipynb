{
 "cells": [
  {
   "cell_type": "markdown",
   "metadata": {},
   "source": [
    "### IMPORTS"
   ]
  },
  {
   "cell_type": "code",
   "execution_count": 1,
   "metadata": {},
   "outputs": [],
   "source": [
    "import numpy as np\n",
    "import pandas as pd\n",
    "\n",
    "from sklearn.model_selection import train_test_split\n",
    "from sklearn.preprocessing import MinMaxScaler\n",
    "\n",
    "from tensorflow.keras.models import Sequential\n",
    "from tensorflow.keras.layers import InputLayer, Dense\n",
    "\n",
    "import matplotlib.pyplot as plt"
   ]
  },
  {
   "cell_type": "markdown",
   "metadata": {},
   "source": [
    "### LOADING DATA"
   ]
  },
  {
   "cell_type": "code",
   "execution_count": 2,
   "metadata": {},
   "outputs": [],
   "source": [
    "DATA = pd.read_csv(\"loan_data.csv\")"
   ]
  },
  {
   "cell_type": "code",
   "execution_count": 3,
   "metadata": {},
   "outputs": [
    {
     "data": {
      "text/html": [
       "<div>\n",
       "<style scoped>\n",
       "    .dataframe tbody tr th:only-of-type {\n",
       "        vertical-align: middle;\n",
       "    }\n",
       "\n",
       "    .dataframe tbody tr th {\n",
       "        vertical-align: top;\n",
       "    }\n",
       "\n",
       "    .dataframe thead th {\n",
       "        text-align: right;\n",
       "    }\n",
       "</style>\n",
       "<table border=\"1\" class=\"dataframe\">\n",
       "  <thead>\n",
       "    <tr style=\"text-align: right;\">\n",
       "      <th></th>\n",
       "      <th>Loan_ID</th>\n",
       "      <th>Gender</th>\n",
       "      <th>Married</th>\n",
       "      <th>Dependents</th>\n",
       "      <th>Education</th>\n",
       "      <th>Self_Employed</th>\n",
       "      <th>ApplicantIncome</th>\n",
       "      <th>CoapplicantIncome</th>\n",
       "      <th>LoanAmount</th>\n",
       "      <th>Loan_Amount_Term</th>\n",
       "      <th>Credit_History</th>\n",
       "      <th>Property_Area</th>\n",
       "      <th>Loan_Status</th>\n",
       "    </tr>\n",
       "  </thead>\n",
       "  <tbody>\n",
       "    <tr>\n",
       "      <th>0</th>\n",
       "      <td>LP001002</td>\n",
       "      <td>Male</td>\n",
       "      <td>No</td>\n",
       "      <td>0</td>\n",
       "      <td>Graduate</td>\n",
       "      <td>No</td>\n",
       "      <td>5849</td>\n",
       "      <td>0.0</td>\n",
       "      <td>NaN</td>\n",
       "      <td>360.0</td>\n",
       "      <td>1.0</td>\n",
       "      <td>Urban</td>\n",
       "      <td>Y</td>\n",
       "    </tr>\n",
       "    <tr>\n",
       "      <th>1</th>\n",
       "      <td>LP001003</td>\n",
       "      <td>Male</td>\n",
       "      <td>Yes</td>\n",
       "      <td>1</td>\n",
       "      <td>Graduate</td>\n",
       "      <td>No</td>\n",
       "      <td>4583</td>\n",
       "      <td>1508.0</td>\n",
       "      <td>128.0</td>\n",
       "      <td>360.0</td>\n",
       "      <td>1.0</td>\n",
       "      <td>Rural</td>\n",
       "      <td>N</td>\n",
       "    </tr>\n",
       "    <tr>\n",
       "      <th>2</th>\n",
       "      <td>LP001005</td>\n",
       "      <td>Male</td>\n",
       "      <td>Yes</td>\n",
       "      <td>0</td>\n",
       "      <td>Graduate</td>\n",
       "      <td>Yes</td>\n",
       "      <td>3000</td>\n",
       "      <td>0.0</td>\n",
       "      <td>66.0</td>\n",
       "      <td>360.0</td>\n",
       "      <td>1.0</td>\n",
       "      <td>Urban</td>\n",
       "      <td>Y</td>\n",
       "    </tr>\n",
       "    <tr>\n",
       "      <th>3</th>\n",
       "      <td>LP001006</td>\n",
       "      <td>Male</td>\n",
       "      <td>Yes</td>\n",
       "      <td>0</td>\n",
       "      <td>Not Graduate</td>\n",
       "      <td>No</td>\n",
       "      <td>2583</td>\n",
       "      <td>2358.0</td>\n",
       "      <td>120.0</td>\n",
       "      <td>360.0</td>\n",
       "      <td>1.0</td>\n",
       "      <td>Urban</td>\n",
       "      <td>Y</td>\n",
       "    </tr>\n",
       "    <tr>\n",
       "      <th>4</th>\n",
       "      <td>LP001008</td>\n",
       "      <td>Male</td>\n",
       "      <td>No</td>\n",
       "      <td>0</td>\n",
       "      <td>Graduate</td>\n",
       "      <td>No</td>\n",
       "      <td>6000</td>\n",
       "      <td>0.0</td>\n",
       "      <td>141.0</td>\n",
       "      <td>360.0</td>\n",
       "      <td>1.0</td>\n",
       "      <td>Urban</td>\n",
       "      <td>Y</td>\n",
       "    </tr>\n",
       "  </tbody>\n",
       "</table>\n",
       "</div>"
      ],
      "text/plain": [
       "    Loan_ID Gender Married Dependents     Education Self_Employed  \\\n",
       "0  LP001002   Male      No          0      Graduate            No   \n",
       "1  LP001003   Male     Yes          1      Graduate            No   \n",
       "2  LP001005   Male     Yes          0      Graduate           Yes   \n",
       "3  LP001006   Male     Yes          0  Not Graduate            No   \n",
       "4  LP001008   Male      No          0      Graduate            No   \n",
       "\n",
       "   ApplicantIncome  CoapplicantIncome  LoanAmount  Loan_Amount_Term  \\\n",
       "0             5849                0.0         NaN             360.0   \n",
       "1             4583             1508.0       128.0             360.0   \n",
       "2             3000                0.0        66.0             360.0   \n",
       "3             2583             2358.0       120.0             360.0   \n",
       "4             6000                0.0       141.0             360.0   \n",
       "\n",
       "   Credit_History Property_Area Loan_Status  \n",
       "0             1.0         Urban           Y  \n",
       "1             1.0         Rural           N  \n",
       "2             1.0         Urban           Y  \n",
       "3             1.0         Urban           Y  \n",
       "4             1.0         Urban           Y  "
      ]
     },
     "execution_count": 3,
     "metadata": {},
     "output_type": "execute_result"
    }
   ],
   "source": [
    "DATA.head()"
   ]
  },
  {
   "cell_type": "markdown",
   "metadata": {},
   "source": [
    "### MISSING VALUES"
   ]
  },
  {
   "cell_type": "code",
   "execution_count": 4,
   "metadata": {},
   "outputs": [
    {
     "data": {
      "text/plain": [
       "Loan_ID               0\n",
       "Gender               13\n",
       "Married               3\n",
       "Dependents           15\n",
       "Education             0\n",
       "Self_Employed        32\n",
       "ApplicantIncome       0\n",
       "CoapplicantIncome     0\n",
       "LoanAmount           22\n",
       "Loan_Amount_Term     14\n",
       "Credit_History       50\n",
       "Property_Area         0\n",
       "Loan_Status           0\n",
       "dtype: int64"
      ]
     },
     "execution_count": 4,
     "metadata": {},
     "output_type": "execute_result"
    }
   ],
   "source": [
    "DATA.isna().sum()"
   ]
  },
  {
   "cell_type": "code",
   "execution_count": 5,
   "metadata": {},
   "outputs": [],
   "source": [
    "DATA['Gender'].fillna(DATA['Gender'].mode()[0], inplace=True)\n",
    "DATA['Married'].fillna(DATA['Married'].mode()[0], inplace=True)\n",
    "DATA['Dependents'].fillna(DATA['Dependents'].mode()[0], inplace=True)\n",
    "DATA['Self_Employed'].fillna(DATA['Self_Employed'].mode()[0], inplace=True)\n",
    "DATA['Loan_Amount_Term'].fillna(DATA['Loan_Amount_Term'].mode()[0], inplace=True)\n",
    "DATA['Credit_History'].fillna(DATA['Credit_History'].mode()[0], inplace=True)"
   ]
  },
  {
   "cell_type": "code",
   "execution_count": 6,
   "metadata": {},
   "outputs": [],
   "source": [
    "DATA['LoanAmount'].fillna(DATA['LoanAmount'].mean(), inplace=True)"
   ]
  },
  {
   "cell_type": "code",
   "execution_count": 7,
   "metadata": {},
   "outputs": [
    {
     "data": {
      "text/plain": [
       "Loan_ID              0\n",
       "Gender               0\n",
       "Married              0\n",
       "Dependents           0\n",
       "Education            0\n",
       "Self_Employed        0\n",
       "ApplicantIncome      0\n",
       "CoapplicantIncome    0\n",
       "LoanAmount           0\n",
       "Loan_Amount_Term     0\n",
       "Credit_History       0\n",
       "Property_Area        0\n",
       "Loan_Status          0\n",
       "dtype: int64"
      ]
     },
     "execution_count": 7,
     "metadata": {},
     "output_type": "execute_result"
    }
   ],
   "source": [
    "DATA.isna().sum()"
   ]
  },
  {
   "cell_type": "markdown",
   "metadata": {},
   "source": [
    "### LABEL ENCODING"
   ]
  },
  {
   "cell_type": "code",
   "execution_count": 8,
   "metadata": {},
   "outputs": [
    {
     "data": {
      "text/plain": [
       "Y    422\n",
       "N    192\n",
       "Name: Loan_Status, dtype: int64"
      ]
     },
     "execution_count": 8,
     "metadata": {},
     "output_type": "execute_result"
    }
   ],
   "source": [
    "DATA['Loan_Status'].value_counts()"
   ]
  },
  {
   "cell_type": "code",
   "execution_count": 9,
   "metadata": {},
   "outputs": [],
   "source": [
    "DATA['Loan_Status'] = DATA['Loan_Status'].map({'Y': 1, 'N': 0})"
   ]
  },
  {
   "cell_type": "markdown",
   "metadata": {},
   "source": [
    "##### Dependents and Educaion are Ordinal variables "
   ]
  },
  {
   "cell_type": "code",
   "execution_count": 10,
   "metadata": {},
   "outputs": [
    {
     "data": {
      "text/plain": [
       "0     360\n",
       "1     102\n",
       "2     101\n",
       "3+     51\n",
       "Name: Dependents, dtype: int64"
      ]
     },
     "execution_count": 10,
     "metadata": {},
     "output_type": "execute_result"
    }
   ],
   "source": [
    "DATA['Dependents'].value_counts()"
   ]
  },
  {
   "cell_type": "code",
   "execution_count": 11,
   "metadata": {},
   "outputs": [],
   "source": [
    "DATA['Dependents'] = DATA['Dependents'].map({'0': 0, '1': 1, '2': 2, '3+': 3})"
   ]
  },
  {
   "cell_type": "code",
   "execution_count": 12,
   "metadata": {},
   "outputs": [
    {
     "data": {
      "text/plain": [
       "Graduate        480\n",
       "Not Graduate    134\n",
       "Name: Education, dtype: int64"
      ]
     },
     "execution_count": 12,
     "metadata": {},
     "output_type": "execute_result"
    }
   ],
   "source": [
    "DATA['Education'].value_counts()"
   ]
  },
  {
   "cell_type": "code",
   "execution_count": 13,
   "metadata": {},
   "outputs": [],
   "source": [
    "DATA['Education'] = DATA['Education'].map({'Graduate': 1, 'Not Graduate': 0})"
   ]
  },
  {
   "cell_type": "markdown",
   "metadata": {},
   "source": [
    "### ONE HOT ENCODING"
   ]
  },
  {
   "cell_type": "code",
   "execution_count": 14,
   "metadata": {},
   "outputs": [],
   "source": [
    "DATA = pd.concat([pd.get_dummies(DATA[['Gender', 'Married', 'Self_Employed', 'Property_Area']]), DATA], axis = 1)"
   ]
  },
  {
   "cell_type": "code",
   "execution_count": 15,
   "metadata": {},
   "outputs": [],
   "source": [
    "DATA = DATA.drop(['Loan_ID', 'Gender', 'Married', 'Self_Employed', 'Property_Area'], axis = 1)"
   ]
  },
  {
   "cell_type": "markdown",
   "metadata": {},
   "source": [
    "### TRAIN / TEST SPLIT"
   ]
  },
  {
   "cell_type": "code",
   "execution_count": 16,
   "metadata": {},
   "outputs": [],
   "source": [
    "X = DATA.drop('Loan_Status', axis = 1)"
   ]
  },
  {
   "cell_type": "code",
   "execution_count": 17,
   "metadata": {},
   "outputs": [],
   "source": [
    "X = pd.DataFrame(MinMaxScaler().fit_transform(X), columns = X.columns)"
   ]
  },
  {
   "cell_type": "code",
   "execution_count": 18,
   "metadata": {},
   "outputs": [],
   "source": [
    "y = DATA['Loan_Status']"
   ]
  },
  {
   "cell_type": "code",
   "execution_count": 19,
   "metadata": {},
   "outputs": [],
   "source": [
    "X_train,X_test,y_train,y_test = train_test_split(X, y, stratify=DATA['Loan_Status'], random_state=10, test_size=0.2)"
   ]
  },
  {
   "cell_type": "markdown",
   "metadata": {},
   "source": [
    "### MODEL"
   ]
  },
  {
   "cell_type": "code",
   "execution_count": 20,
   "metadata": {},
   "outputs": [],
   "source": [
    "model = Sequential()\n",
    "model.add(InputLayer(input_shape=(X.shape[1],)))\n",
    "model.add(Dense(units=32, activation='relu'))\n",
    "model.add(Dense(units=16, activation='relu'))\n",
    "model.add(Dense(units=1, activation='sigmoid'))"
   ]
  },
  {
   "cell_type": "code",
   "execution_count": 21,
   "metadata": {},
   "outputs": [],
   "source": [
    "model.compile(loss='binary_crossentropy', optimizer='Adam', metrics=['accuracy'])"
   ]
  },
  {
   "cell_type": "code",
   "execution_count": 22,
   "metadata": {},
   "outputs": [
    {
     "name": "stdout",
     "output_type": "stream",
     "text": [
      "Epoch 1/50\n",
      "16/16 [==============================] - 2s 100ms/step - loss: 0.6823 - accuracy: 0.5956 - val_loss: 0.6443 - val_accuracy: 0.6829\n",
      "Epoch 2/50\n",
      "16/16 [==============================] - 0s 5ms/step - loss: 0.6315 - accuracy: 0.6896 - val_loss: 0.6165 - val_accuracy: 0.6911\n",
      "Epoch 3/50\n",
      "16/16 [==============================] - 0s 5ms/step - loss: 0.6161 - accuracy: 0.6799 - val_loss: 0.6013 - val_accuracy: 0.6911\n",
      "Epoch 4/50\n",
      "16/16 [==============================] - 0s 5ms/step - loss: 0.5916 - accuracy: 0.6982 - val_loss: 0.5888 - val_accuracy: 0.6911\n",
      "Epoch 5/50\n",
      "16/16 [==============================] - 0s 4ms/step - loss: 0.5703 - accuracy: 0.7159 - val_loss: 0.5751 - val_accuracy: 0.6911\n",
      "Epoch 6/50\n",
      "16/16 [==============================] - 0s 5ms/step - loss: 0.5646 - accuracy: 0.6984 - val_loss: 0.5610 - val_accuracy: 0.7154\n",
      "Epoch 7/50\n",
      "16/16 [==============================] - 0s 5ms/step - loss: 0.5552 - accuracy: 0.7105 - val_loss: 0.5449 - val_accuracy: 0.7480\n",
      "Epoch 8/50\n",
      "16/16 [==============================] - 0s 6ms/step - loss: 0.5307 - accuracy: 0.7506 - val_loss: 0.5301 - val_accuracy: 0.7724\n",
      "Epoch 9/50\n",
      "16/16 [==============================] - ETA: 0s - loss: 0.7010 - accuracy: 0.59 - 0s 5ms/step - loss: 0.5561 - accuracy: 0.7610 - val_loss: 0.5158 - val_accuracy: 0.8130\n",
      "Epoch 10/50\n",
      "16/16 [==============================] - 0s 5ms/step - loss: 0.5159 - accuracy: 0.7999 - val_loss: 0.5001 - val_accuracy: 0.8130\n",
      "Epoch 11/50\n",
      "16/16 [==============================] - 0s 5ms/step - loss: 0.5044 - accuracy: 0.8061 - val_loss: 0.4878 - val_accuracy: 0.8130\n",
      "Epoch 12/50\n",
      "16/16 [==============================] - 0s 5ms/step - loss: 0.5107 - accuracy: 0.7839 - val_loss: 0.4782 - val_accuracy: 0.8130\n",
      "Epoch 13/50\n",
      "16/16 [==============================] - 0s 4ms/step - loss: 0.4905 - accuracy: 0.8033 - val_loss: 0.4711 - val_accuracy: 0.8130\n",
      "Epoch 14/50\n",
      "16/16 [==============================] - 0s 5ms/step - loss: 0.4599 - accuracy: 0.8202 - val_loss: 0.4668 - val_accuracy: 0.8130\n",
      "Epoch 15/50\n",
      "16/16 [==============================] - 0s 5ms/step - loss: 0.4514 - accuracy: 0.8251 - val_loss: 0.4643 - val_accuracy: 0.8130\n",
      "Epoch 16/50\n",
      "16/16 [==============================] - 0s 5ms/step - loss: 0.4548 - accuracy: 0.8126 - val_loss: 0.4622 - val_accuracy: 0.8130\n",
      "Epoch 17/50\n",
      "16/16 [==============================] - 0s 5ms/step - loss: 0.4615 - accuracy: 0.8088 - val_loss: 0.4623 - val_accuracy: 0.8130\n",
      "Epoch 18/50\n",
      "16/16 [==============================] - 0s 5ms/step - loss: 0.4571 - accuracy: 0.8226 - val_loss: 0.4615 - val_accuracy: 0.8130\n",
      "Epoch 19/50\n",
      "16/16 [==============================] - 0s 5ms/step - loss: 0.4724 - accuracy: 0.8047 - val_loss: 0.4595 - val_accuracy: 0.8130\n",
      "Epoch 20/50\n",
      "16/16 [==============================] - 0s 5ms/step - loss: 0.4544 - accuracy: 0.8153 - val_loss: 0.4602 - val_accuracy: 0.8130\n",
      "Epoch 21/50\n",
      "16/16 [==============================] - 0s 5ms/step - loss: 0.4401 - accuracy: 0.8329 - val_loss: 0.4592 - val_accuracy: 0.8130\n",
      "Epoch 22/50\n",
      "16/16 [==============================] - 0s 6ms/step - loss: 0.4409 - accuracy: 0.8199 - val_loss: 0.4579 - val_accuracy: 0.8130\n",
      "Epoch 23/50\n",
      "16/16 [==============================] - 0s 9ms/step - loss: 0.4679 - accuracy: 0.8039 - val_loss: 0.4594 - val_accuracy: 0.8130\n",
      "Epoch 24/50\n",
      "16/16 [==============================] - 0s 11ms/step - loss: 0.4454 - accuracy: 0.8206 - val_loss: 0.4609 - val_accuracy: 0.8130\n",
      "Epoch 25/50\n",
      "16/16 [==============================] - 0s 8ms/step - loss: 0.4445 - accuracy: 0.8212 - val_loss: 0.4608 - val_accuracy: 0.8130\n",
      "Epoch 26/50\n",
      "16/16 [==============================] - 0s 6ms/step - loss: 0.4458 - accuracy: 0.8199 - val_loss: 0.4618 - val_accuracy: 0.8130\n",
      "Epoch 27/50\n",
      "16/16 [==============================] - 0s 5ms/step - loss: 0.4417 - accuracy: 0.8164 - val_loss: 0.4615 - val_accuracy: 0.8130\n",
      "Epoch 28/50\n",
      "16/16 [==============================] - 0s 8ms/step - loss: 0.4187 - accuracy: 0.8337 - val_loss: 0.4617 - val_accuracy: 0.8130\n",
      "Epoch 29/50\n",
      "16/16 [==============================] - 0s 5ms/step - loss: 0.4629 - accuracy: 0.8063 - val_loss: 0.4617 - val_accuracy: 0.8130\n",
      "Epoch 30/50\n",
      "16/16 [==============================] - 0s 6ms/step - loss: 0.4437 - accuracy: 0.8149 - val_loss: 0.4620 - val_accuracy: 0.8130\n",
      "Epoch 31/50\n",
      "16/16 [==============================] - 0s 9ms/step - loss: 0.4350 - accuracy: 0.8194 - val_loss: 0.4618 - val_accuracy: 0.8130\n",
      "Epoch 32/50\n",
      "16/16 [==============================] - 0s 10ms/step - loss: 0.4957 - accuracy: 0.7740 - val_loss: 0.4616 - val_accuracy: 0.8130\n",
      "Epoch 33/50\n",
      "16/16 [==============================] - 0s 9ms/step - loss: 0.4544 - accuracy: 0.8149 - val_loss: 0.4637 - val_accuracy: 0.8130\n",
      "Epoch 34/50\n",
      "16/16 [==============================] - 0s 8ms/step - loss: 0.4621 - accuracy: 0.7954 - val_loss: 0.4641 - val_accuracy: 0.8130\n",
      "Epoch 35/50\n",
      "16/16 [==============================] - 0s 9ms/step - loss: 0.4489 - accuracy: 0.7990 - val_loss: 0.4640 - val_accuracy: 0.8130\n",
      "Epoch 36/50\n",
      "16/16 [==============================] - 0s 7ms/step - loss: 0.3984 - accuracy: 0.8372 - val_loss: 0.4681 - val_accuracy: 0.8130\n",
      "Epoch 37/50\n",
      "16/16 [==============================] - 0s 7ms/step - loss: 0.4089 - accuracy: 0.8397 - val_loss: 0.4661 - val_accuracy: 0.8130\n",
      "Epoch 38/50\n",
      "16/16 [==============================] - 0s 6ms/step - loss: 0.4581 - accuracy: 0.8111 - val_loss: 0.4664 - val_accuracy: 0.8130\n",
      "Epoch 39/50\n",
      "16/16 [==============================] - 0s 5ms/step - loss: 0.4351 - accuracy: 0.8178 - val_loss: 0.4660 - val_accuracy: 0.8130\n",
      "Epoch 40/50\n",
      "16/16 [==============================] - 0s 5ms/step - loss: 0.4314 - accuracy: 0.8195 - val_loss: 0.4679 - val_accuracy: 0.8049\n",
      "Epoch 41/50\n",
      "16/16 [==============================] - 0s 5ms/step - loss: 0.4749 - accuracy: 0.7915 - val_loss: 0.4677 - val_accuracy: 0.8130\n",
      "Epoch 42/50\n",
      "16/16 [==============================] - 0s 5ms/step - loss: 0.4460 - accuracy: 0.8110 - val_loss: 0.4684 - val_accuracy: 0.8049\n",
      "Epoch 43/50\n",
      "16/16 [==============================] - 0s 6ms/step - loss: 0.4173 - accuracy: 0.8370 - val_loss: 0.4710 - val_accuracy: 0.8049\n",
      "Epoch 44/50\n",
      "16/16 [==============================] - 0s 4ms/step - loss: 0.4288 - accuracy: 0.8242 - val_loss: 0.4698 - val_accuracy: 0.8049\n",
      "Epoch 45/50\n",
      "16/16 [==============================] - 0s 4ms/step - loss: 0.4649 - accuracy: 0.8018 - val_loss: 0.4692 - val_accuracy: 0.8049\n",
      "Epoch 46/50\n",
      "16/16 [==============================] - 0s 4ms/step - loss: 0.4166 - accuracy: 0.8336 - val_loss: 0.4715 - val_accuracy: 0.8049\n",
      "Epoch 47/50\n",
      "16/16 [==============================] - 0s 4ms/step - loss: 0.4480 - accuracy: 0.8121 - val_loss: 0.4719 - val_accuracy: 0.8049\n",
      "Epoch 48/50\n",
      "16/16 [==============================] - 0s 5ms/step - loss: 0.4345 - accuracy: 0.8138 - val_loss: 0.4728 - val_accuracy: 0.8049\n",
      "Epoch 49/50\n",
      "16/16 [==============================] - 0s 4ms/step - loss: 0.4291 - accuracy: 0.8224 - val_loss: 0.4725 - val_accuracy: 0.8049\n",
      "Epoch 50/50\n",
      "16/16 [==============================] - 0s 4ms/step - loss: 0.4357 - accuracy: 0.8102 - val_loss: 0.4730 - val_accuracy: 0.8049\n"
     ]
    }
   ],
   "source": [
    "model_history = model.fit(X_train, y_train, validation_data=(X_test, y_test), epochs=50)"
   ]
  },
  {
   "cell_type": "markdown",
   "metadata": {},
   "source": [
    "### PLOTS"
   ]
  },
  {
   "cell_type": "code",
   "execution_count": 23,
   "metadata": {},
   "outputs": [
    {
     "data": {
      "image/png": "[encoded data removed]",
      "text/plain": [
       "<Figure size 432x288 with 1 Axes>"
      ]
     },
     "metadata": {
      "needs_background": "light"
     },
     "output_type": "display_data"
    }
   ],
   "source": [
    "plt.plot(model_history.history['loss'])\n",
    "plt.plot(model_history.history['val_loss'])\n",
    "plt.title('model loss')\n",
    "plt.ylabel('loss')\n",
    "plt.xlabel('epoch')\n",
    "plt.legend(['train', 'validation'], loc='upper left')\n",
    "plt.show()"
   ]
  },
  {
   "cell_type": "code",
   "execution_count": 24,
   "metadata": {},
   "outputs": [
    {
     "data": {
      "image/png": "[encoded data removed]",
      "text/plain": [
       "<Figure size 432x288 with 1 Axes>"
      ]
     },
     "metadata": {
      "needs_background": "light"
     },
     "output_type": "display_data"
    }
   ],
   "source": [
    "plt.plot(model_history.history['accuracy'])\n",
    "plt.plot(model_history.history['val_accuracy'])\n",
    "plt.title('model accuracy')\n",
    "plt.ylabel('accuracy')\n",
    "plt.xlabel('epoch')\n",
    "plt.legend(['train', 'validation'], loc='upper left')\n",
    "plt.show()"
   ]
  },
  {
   "cell_type": "code",
   "execution_count": null,
   "metadata": {},
   "outputs": [],
   "source": []
  }
 ],
 "metadata": {
  "kernelspec": {
   "display_name": "Python 3",
   "language": "python",
   "name": "python3"
  },
  "language_info": {
   "codemirror_mode": {
    "name": "ipython",
    "version": 3
   },
   "file_extension": ".py",
   "mimetype": "text/x-python",
   "name": "python",
   "nbconvert_exporter": "python",
   "pygments_lexer": "ipython3",
   "version": "3.8.5"
  }
 },
 "nbformat": 4,
 "nbformat_minor": 4
}
